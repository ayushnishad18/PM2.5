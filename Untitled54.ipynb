{
 "cells": [
  {
   "cell_type": "code",
   "execution_count": 261,
   "metadata": {},
   "outputs": [],
   "source": [
    "import numpy as np\n",
    "import pandas as pd"
   ]
  },
  {
   "cell_type": "code",
   "execution_count": 262,
   "metadata": {},
   "outputs": [
    {
     "data": {
      "text/plain": [
       "35064"
      ]
     },
     "execution_count": 262,
     "metadata": {},
     "output_type": "execute_result"
    }
   ],
   "source": [
    "x=pd.read_csv(\"air_quality.csv\")\n",
    "x.head(5)\n",
    "len(x)"
   ]
  },
  {
   "cell_type": "code",
   "execution_count": 244,
   "metadata": {},
   "outputs": [],
   "source": [
    "df=x[x['PM2.5']==-1]"
   ]
  },
  {
   "cell_type": "code",
   "execution_count": 245,
   "metadata": {},
   "outputs": [],
   "source": [
    "x=x[x['PM2.5']!=-1]"
   ]
  },
  {
   "cell_type": "code",
   "execution_count": 246,
   "metadata": {},
   "outputs": [],
   "source": [
    "y=x['PM2.5']\n",
    "x=x.drop('PM2.5',axis=1)"
   ]
  },
  {
   "cell_type": "code",
   "execution_count": 247,
   "metadata": {},
   "outputs": [],
   "source": [
    "k=x['wind_direction'].mode()[0]\n",
    "x['wind_direction']=x['wind_direction'].fillna(k)"
   ]
  },
  {
   "cell_type": "code",
   "execution_count": 248,
   "metadata": {},
   "outputs": [],
   "source": [
    "from sklearn import preprocessing\n",
    "le=preprocessing.LabelEncoder()\n",
    "x['wind_direction']=le.fit_transform(x['wind_direction'])"
   ]
  },
  {
   "cell_type": "code",
   "execution_count": 249,
   "metadata": {},
   "outputs": [],
   "source": [
    "k=x['temperature'].mean()\n",
    "x['temperature']=x['temperature'].fillna(k)\n",
    "k=x['pressure'].mean()\n",
    "x['pressure']=x['pressure'].fillna(k)\n",
    "k=x['rain'].mean()\n",
    "x['rain']=x['rain'].fillna(k)\n",
    "k=x['wind_speed'].mean()\n",
    "x['wind_speed']=x['wind_speed'].fillna(k)"
   ]
  },
  {
   "cell_type": "code",
   "execution_count": 250,
   "metadata": {},
   "outputs": [
    {
     "data": {
      "text/plain": [
       "0       4.0\n",
       "1       8.0\n",
       "2       7.0\n",
       "3       6.0\n",
       "4       3.0\n",
       "5       5.0\n",
       "6       3.0\n",
       "7       3.0\n",
       "8       3.0\n",
       "9       3.0\n",
       "10      3.0\n",
       "11      3.0\n",
       "12      3.0\n",
       "13      3.0\n",
       "14      6.0\n",
       "15      8.0\n",
       "16      9.0\n",
       "17     10.0\n",
       "18     11.0\n",
       "19      8.0\n",
       "20     11.0\n",
       "21     12.0\n",
       "22     15.0\n",
       "23     24.0\n",
       "24     22.0\n",
       "25     14.0\n",
       "26     13.0\n",
       "27      3.0\n",
       "28      3.0\n",
       "29      9.0\n",
       "30      4.0\n",
       "31      3.0\n",
       "32      3.0\n",
       "33     10.0\n",
       "34     11.0\n",
       "35     18.0\n",
       "36     26.0\n",
       "37     25.0\n",
       "38     26.0\n",
       "39     37.0\n",
       "40     37.0\n",
       "41     44.0\n",
       "42     54.0\n",
       "43     61.0\n",
       "44     67.0\n",
       "45     74.0\n",
       "46     81.0\n",
       "47     93.0\n",
       "48    112.0\n",
       "49    109.0\n",
       "Name: PM2.5, dtype: float64"
      ]
     },
     "execution_count": 250,
     "metadata": {},
     "output_type": "execute_result"
    }
   ],
   "source": [
    "y=y.fillna(y.mean())\n",
    "y.head(50)"
   ]
  },
  {
   "cell_type": "code",
   "execution_count": 251,
   "metadata": {},
   "outputs": [],
   "source": [
    "y=y.astype('int')"
   ]
  },
  {
   "cell_type": "code",
   "execution_count": 252,
   "metadata": {},
   "outputs": [
    {
     "data": {
      "text/plain": [
       "1.0"
      ]
     },
     "execution_count": 252,
     "metadata": {},
     "output_type": "execute_result"
    }
   ],
   "source": [
    "from sklearn.ensemble import RandomForestClassifier\n",
    "m=RandomForestClassifier()\n",
    "m.fit(x,y)\n",
    "m.score(x,y)"
   ]
  },
  {
   "cell_type": "code",
   "execution_count": 253,
   "metadata": {},
   "outputs": [],
   "source": [
    "x_test=df.drop('PM2.5',axis=1)"
   ]
  },
  {
   "cell_type": "code",
   "execution_count": 254,
   "metadata": {},
   "outputs": [],
   "source": [
    "k=x_test['wind_direction'].mode()[0]\n",
    "x_test['wind_direction']=x_test['wind_direction'].fillna(k)\n",
    "from sklearn import preprocessing\n",
    "le=preprocessing.LabelEncoder()\n",
    "x_test['wind_direction']=le.fit_transform(x_test['wind_direction'])\n",
    "k=x_test['temperature'].mean()\n",
    "x_test['temperature']=x_test['temperature'].fillna(k)\n",
    "k=x_test['pressure'].mean()\n",
    "x_test['pressure']=x_test['pressure'].fillna(k)\n",
    "k=x_test['rain'].mean()\n",
    "x_test['rain']=x_test['rain'].fillna(k)\n",
    "k=x_test['wind_speed'].mean()\n",
    "x_test['wind_speed']=x_test['wind_speed'].fillna(k)"
   ]
  },
  {
   "cell_type": "code",
   "execution_count": 255,
   "metadata": {},
   "outputs": [],
   "source": [
    "y_test=m.predict(x_test)"
   ]
  },
  {
   "cell_type": "code",
   "execution_count": 256,
   "metadata": {},
   "outputs": [],
   "source": [
    "x_test['PM2.5']=y_test"
   ]
  },
  {
   "cell_type": "code",
   "execution_count": 257,
   "metadata": {},
   "outputs": [
    {
     "data": {
      "text/html": [
       "<div>\n",
       "<style scoped>\n",
       "    .dataframe tbody tr th:only-of-type {\n",
       "        vertical-align: middle;\n",
       "    }\n",
       "\n",
       "    .dataframe tbody tr th {\n",
       "        vertical-align: top;\n",
       "    }\n",
       "\n",
       "    .dataframe thead th {\n",
       "        text-align: right;\n",
       "    }\n",
       "</style>\n",
       "<table border=\"1\" class=\"dataframe\">\n",
       "  <thead>\n",
       "    <tr style=\"text-align: right;\">\n",
       "      <th></th>\n",
       "      <th>year</th>\n",
       "      <th>month</th>\n",
       "      <th>day</th>\n",
       "      <th>hour</th>\n",
       "      <th>temperature</th>\n",
       "      <th>pressure</th>\n",
       "      <th>rain</th>\n",
       "      <th>wind_direction</th>\n",
       "      <th>wind_speed</th>\n",
       "      <th>PM2.5</th>\n",
       "    </tr>\n",
       "  </thead>\n",
       "  <tbody>\n",
       "    <tr>\n",
       "      <th>30021</th>\n",
       "      <td>2016</td>\n",
       "      <td>8</td>\n",
       "      <td>2</td>\n",
       "      <td>21</td>\n",
       "      <td>30.6</td>\n",
       "      <td>1005.2</td>\n",
       "      <td>0.0</td>\n",
       "      <td>8</td>\n",
       "      <td>1.3</td>\n",
       "      <td>37</td>\n",
       "    </tr>\n",
       "    <tr>\n",
       "      <th>30083</th>\n",
       "      <td>2016</td>\n",
       "      <td>8</td>\n",
       "      <td>5</td>\n",
       "      <td>11</td>\n",
       "      <td>31.1</td>\n",
       "      <td>1006.2</td>\n",
       "      <td>0.0</td>\n",
       "      <td>1</td>\n",
       "      <td>2.2</td>\n",
       "      <td>62</td>\n",
       "    </tr>\n",
       "    <tr>\n",
       "      <th>30084</th>\n",
       "      <td>2016</td>\n",
       "      <td>8</td>\n",
       "      <td>5</td>\n",
       "      <td>12</td>\n",
       "      <td>31.5</td>\n",
       "      <td>1005.9</td>\n",
       "      <td>0.0</td>\n",
       "      <td>2</td>\n",
       "      <td>2.2</td>\n",
       "      <td>129</td>\n",
       "    </tr>\n",
       "    <tr>\n",
       "      <th>30100</th>\n",
       "      <td>2016</td>\n",
       "      <td>8</td>\n",
       "      <td>6</td>\n",
       "      <td>4</td>\n",
       "      <td>26.8</td>\n",
       "      <td>1002.9</td>\n",
       "      <td>0.0</td>\n",
       "      <td>12</td>\n",
       "      <td>0.2</td>\n",
       "      <td>53</td>\n",
       "    </tr>\n",
       "    <tr>\n",
       "      <th>30106</th>\n",
       "      <td>2016</td>\n",
       "      <td>8</td>\n",
       "      <td>6</td>\n",
       "      <td>10</td>\n",
       "      <td>30.8</td>\n",
       "      <td>1002.4</td>\n",
       "      <td>0.0</td>\n",
       "      <td>1</td>\n",
       "      <td>1.1</td>\n",
       "      <td>138</td>\n",
       "    </tr>\n",
       "  </tbody>\n",
       "</table>\n",
       "</div>"
      ],
      "text/plain": [
       "       year  month  day  hour  temperature  pressure  rain  wind_direction  \\\n",
       "30021  2016      8    2    21         30.6    1005.2   0.0               8   \n",
       "30083  2016      8    5    11         31.1    1006.2   0.0               1   \n",
       "30084  2016      8    5    12         31.5    1005.9   0.0               2   \n",
       "30100  2016      8    6     4         26.8    1002.9   0.0              12   \n",
       "30106  2016      8    6    10         30.8    1002.4   0.0               1   \n",
       "\n",
       "       wind_speed  PM2.5  \n",
       "30021         1.3     37  \n",
       "30083         2.2     62  \n",
       "30084         2.2    129  \n",
       "30100         0.2     53  \n",
       "30106         1.1    138  "
      ]
     },
     "execution_count": 257,
     "metadata": {},
     "output_type": "execute_result"
    }
   ],
   "source": [
    "x_test.head(5)"
   ]
  },
  {
   "cell_type": "code",
   "execution_count": 258,
   "metadata": {},
   "outputs": [],
   "source": [
    "df['PM2.5']=y_test"
   ]
  },
  {
   "cell_type": "code",
   "execution_count": 259,
   "metadata": {},
   "outputs": [
    {
     "data": {
      "text/html": [
       "<div>\n",
       "<style scoped>\n",
       "    .dataframe tbody tr th:only-of-type {\n",
       "        vertical-align: middle;\n",
       "    }\n",
       "\n",
       "    .dataframe tbody tr th {\n",
       "        vertical-align: top;\n",
       "    }\n",
       "\n",
       "    .dataframe thead th {\n",
       "        text-align: right;\n",
       "    }\n",
       "</style>\n",
       "<table border=\"1\" class=\"dataframe\">\n",
       "  <thead>\n",
       "    <tr style=\"text-align: right;\">\n",
       "      <th></th>\n",
       "      <th>year</th>\n",
       "      <th>month</th>\n",
       "      <th>day</th>\n",
       "      <th>hour</th>\n",
       "      <th>PM2.5</th>\n",
       "      <th>temperature</th>\n",
       "      <th>pressure</th>\n",
       "      <th>rain</th>\n",
       "      <th>wind_direction</th>\n",
       "      <th>wind_speed</th>\n",
       "    </tr>\n",
       "  </thead>\n",
       "  <tbody>\n",
       "    <tr>\n",
       "      <th>30021</th>\n",
       "      <td>2016</td>\n",
       "      <td>8</td>\n",
       "      <td>2</td>\n",
       "      <td>21</td>\n",
       "      <td>37</td>\n",
       "      <td>30.6</td>\n",
       "      <td>1005.2</td>\n",
       "      <td>0.0</td>\n",
       "      <td>S</td>\n",
       "      <td>1.3</td>\n",
       "    </tr>\n",
       "    <tr>\n",
       "      <th>30083</th>\n",
       "      <td>2016</td>\n",
       "      <td>8</td>\n",
       "      <td>5</td>\n",
       "      <td>11</td>\n",
       "      <td>62</td>\n",
       "      <td>31.1</td>\n",
       "      <td>1006.2</td>\n",
       "      <td>0.0</td>\n",
       "      <td>ENE</td>\n",
       "      <td>2.2</td>\n",
       "    </tr>\n",
       "    <tr>\n",
       "      <th>30084</th>\n",
       "      <td>2016</td>\n",
       "      <td>8</td>\n",
       "      <td>5</td>\n",
       "      <td>12</td>\n",
       "      <td>129</td>\n",
       "      <td>31.5</td>\n",
       "      <td>1005.9</td>\n",
       "      <td>0.0</td>\n",
       "      <td>ESE</td>\n",
       "      <td>2.2</td>\n",
       "    </tr>\n",
       "    <tr>\n",
       "      <th>30100</th>\n",
       "      <td>2016</td>\n",
       "      <td>8</td>\n",
       "      <td>6</td>\n",
       "      <td>4</td>\n",
       "      <td>53</td>\n",
       "      <td>26.8</td>\n",
       "      <td>1002.9</td>\n",
       "      <td>0.0</td>\n",
       "      <td>SW</td>\n",
       "      <td>0.2</td>\n",
       "    </tr>\n",
       "    <tr>\n",
       "      <th>30106</th>\n",
       "      <td>2016</td>\n",
       "      <td>8</td>\n",
       "      <td>6</td>\n",
       "      <td>10</td>\n",
       "      <td>138</td>\n",
       "      <td>30.8</td>\n",
       "      <td>1002.4</td>\n",
       "      <td>0.0</td>\n",
       "      <td>ENE</td>\n",
       "      <td>1.1</td>\n",
       "    </tr>\n",
       "  </tbody>\n",
       "</table>\n",
       "</div>"
      ],
      "text/plain": [
       "       year  month  day  hour  PM2.5  temperature  pressure  rain  \\\n",
       "30021  2016      8    2    21     37         30.6    1005.2   0.0   \n",
       "30083  2016      8    5    11     62         31.1    1006.2   0.0   \n",
       "30084  2016      8    5    12    129         31.5    1005.9   0.0   \n",
       "30100  2016      8    6     4     53         26.8    1002.9   0.0   \n",
       "30106  2016      8    6    10    138         30.8    1002.4   0.0   \n",
       "\n",
       "      wind_direction  wind_speed  \n",
       "30021              S         1.3  \n",
       "30083            ENE         2.2  \n",
       "30084            ESE         2.2  \n",
       "30100             SW         0.2  \n",
       "30106            ENE         1.1  "
      ]
     },
     "execution_count": 259,
     "metadata": {},
     "output_type": "execute_result"
    }
   ],
   "source": [
    "df.head(5)"
   ]
  },
  {
   "cell_type": "code",
   "execution_count": 260,
   "metadata": {},
   "outputs": [],
   "source": [
    "df.to_csv('Ayush_Nishad_predictions.csv.csv')"
   ]
  },
  {
   "cell_type": "code",
   "execution_count": null,
   "metadata": {},
   "outputs": [],
   "source": []
  }
 ],
 "metadata": {
  "kernelspec": {
   "display_name": "Python 3",
   "language": "python",
   "name": "python3"
  },
  "language_info": {
   "codemirror_mode": {
    "name": "ipython",
    "version": 3
   },
   "file_extension": ".py",
   "mimetype": "text/x-python",
   "name": "python",
   "nbconvert_exporter": "python",
   "pygments_lexer": "ipython3",
   "version": "3.8.5"
  }
 },
 "nbformat": 4,
 "nbformat_minor": 4
}
